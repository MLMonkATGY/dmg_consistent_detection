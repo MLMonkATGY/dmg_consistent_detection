{
 "cells": [
  {
   "cell_type": "code",
   "execution_count": 6,
   "metadata": {},
   "outputs": [],
   "source": [
    "import pandas as pd\n",
    "import ujson as json\n",
    "import random"
   ]
  },
  {
   "cell_type": "code",
   "execution_count": 16,
   "metadata": {},
   "outputs": [],
   "source": [
    "with open(\"/home/alextay96/Desktop/workspace/mrm_workspace/dmg_consistent_detection/data/sample/test.json\", \"r\") as f:\n",
    "    ann = json.load(f)\n",
    "imgMap = {k[\"id\"]:k for k in ann[\"images\"]}\n",
    "bboxMap = {k[\"id\"]:k for k in ann[\"annotations\"]}\n",
    "# allBgAnn = [x for id, x in bboxMap.items() if x[\"category_id\"] == 0]\n",
    "allAnn =  [x for id, x in bboxMap.items() if x[\"category_id\"] != 0]\n",
    "# random.shuffle(allBgAnn)\n",
    "# bgAnnToRemain = [x[\"id\"] for x in allBgAnn[:150]]\n",
    "bgAnnToRemain = [x[\"id\"] for x in allAnn]\n",
    "# bgAnnToRemain = []\n",
    "imgIdToRemove = []\n",
    "imgToRemain = []\n",
    "annToRemain = []\n",
    "for k, v in bboxMap.items():\n",
    "    if k not in bgAnnToRemain:\n",
    "        imgIdToRemove.append(v[\"image_id\"])\n",
    "    else:\n",
    "        annToRemain.append(v)\n",
    "\n",
    "for k, v in imgMap.items():\n",
    "    if k not in imgIdToRemove:\n",
    "        imgToRemain.append(v)\n",
    "ann[\"images\"] = imgToRemain\n",
    "ann[\"annotations\"] = annToRemain\n",
    "\n",
    "with open(\"./removed_bg_test.json\", \"w\") as f:\n",
    "    json.dump(ann, f)\n"
   ]
  },
  {
   "cell_type": "code",
   "execution_count": 15,
   "metadata": {},
   "outputs": [
    {
     "data": {
      "text/plain": [
       "set()"
      ]
     },
     "execution_count": 15,
     "metadata": {},
     "output_type": "execute_result"
    }
   ],
   "source": [
    "with open(\"/home/alextay96/Desktop/workspace/mrm_workspace/dmg_consistent_detection/data/sample/ood_2.json\", \"r\") as f:\n",
    "    ann = json.load(f)\n",
    "allFilenameNeg = [x[\"file_name\"] for x in ann[\"images\"]]\n",
    "with open(\"/home/alextay96/Desktop/workspace/mrm_workspace/dmg_consistent_detection/data/sample/train.json\", \"r\") as f:\n",
    "    ann = json.load(f)\n",
    "allFilenameTrain = [x[\"file_name\"] for x in ann[\"images\"]]\n",
    "intersect = set(allFilenameNeg) & set(allFilenameTrain)\n",
    "intersect"
   ]
  },
  {
   "cell_type": "code",
   "execution_count": 24,
   "metadata": {},
   "outputs": [
    {
     "data": {
      "text/plain": [
       "0"
      ]
     },
     "execution_count": 24,
     "metadata": {},
     "output_type": "execute_result"
    }
   ],
   "source": [
    "import torch\n",
    "c = 0\n",
    "b = torch.tensor([0.4, 0.3]) > 0.5\n",
    "a = torch.any(b)\n",
    "c += 1 if torch.any(a) else 0\n",
    "c"
   ]
  }
 ],
 "metadata": {
  "kernelspec": {
   "display_name": "Python 3.10.6 ('dmg_consistent_2')",
   "language": "python",
   "name": "python3"
  },
  "language_info": {
   "codemirror_mode": {
    "name": "ipython",
    "version": 3
   },
   "file_extension": ".py",
   "mimetype": "text/x-python",
   "name": "python",
   "nbconvert_exporter": "python",
   "pygments_lexer": "ipython3",
   "version": "3.10.6"
  },
  "orig_nbformat": 4,
  "vscode": {
   "interpreter": {
    "hash": "282798930852b51eab62093d2a98dc5af0759e895909b3f441f7d31855c68d3a"
   }
  }
 },
 "nbformat": 4,
 "nbformat_minor": 2
}
